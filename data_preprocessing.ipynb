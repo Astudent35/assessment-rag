{
 "cells": [
  {
   "cell_type": "markdown",
   "metadata": {},
   "source": [
    "### Importing the data"
   ]
  },
  {
   "cell_type": "code",
   "execution_count": 1,
   "metadata": {},
   "outputs": [
    {
     "data": {
      "text/html": [
       "<div>\n",
       "<style scoped>\n",
       "    .dataframe tbody tr th:only-of-type {\n",
       "        vertical-align: middle;\n",
       "    }\n",
       "\n",
       "    .dataframe tbody tr th {\n",
       "        vertical-align: top;\n",
       "    }\n",
       "\n",
       "    .dataframe thead th {\n",
       "        text-align: right;\n",
       "    }\n",
       "</style>\n",
       "<table border=\"1\" class=\"dataframe\">\n",
       "  <thead>\n",
       "    <tr style=\"text-align: right;\">\n",
       "      <th></th>\n",
       "      <th>review_id</th>\n",
       "      <th>pseudo_author_id</th>\n",
       "      <th>author_name</th>\n",
       "      <th>review_text</th>\n",
       "      <th>review_rating</th>\n",
       "      <th>review_likes</th>\n",
       "      <th>author_app_version</th>\n",
       "      <th>review_timestamp</th>\n",
       "    </tr>\n",
       "  </thead>\n",
       "  <tbody>\n",
       "    <tr>\n",
       "      <th>0</th>\n",
       "      <td>14a011a8-7544-47b4-8480-c502af0ac26f</td>\n",
       "      <td>152618553977019693742</td>\n",
       "      <td>A Google user</td>\n",
       "      <td>use it every day</td>\n",
       "      <td>5</td>\n",
       "      <td>1</td>\n",
       "      <td>1.1.0.91</td>\n",
       "      <td>2014-05-27 14:21:48</td>\n",
       "    </tr>\n",
       "    <tr>\n",
       "      <th>1</th>\n",
       "      <td>bfa8876b-470e-4640-83a7-77427f7f37e8</td>\n",
       "      <td>234382942865437071667</td>\n",
       "      <td>A Google user</td>\n",
       "      <td>i enjoy the awesome ui of this app, and it has...</td>\n",
       "      <td>5</td>\n",
       "      <td>4</td>\n",
       "      <td>1.1.0.91</td>\n",
       "      <td>2014-05-27 14:36:02</td>\n",
       "    </tr>\n",
       "    <tr>\n",
       "      <th>2</th>\n",
       "      <td>70e8252f-058a-47d9-b066-df9e1571c970</td>\n",
       "      <td>174473604608358796368</td>\n",
       "      <td>A Google user</td>\n",
       "      <td>love it! especially the new design!</td>\n",
       "      <td>5</td>\n",
       "      <td>2</td>\n",
       "      <td>1.1.0.91</td>\n",
       "      <td>2014-05-27 14:40:01</td>\n",
       "    </tr>\n",
       "    <tr>\n",
       "      <th>3</th>\n",
       "      <td>672a155a-e81e-4d28-bdeb-a74c031bc072</td>\n",
       "      <td>286593453219054880269</td>\n",
       "      <td>A Google user</td>\n",
       "      <td>awesome ui, best music app out there!</td>\n",
       "      <td>5</td>\n",
       "      <td>1</td>\n",
       "      <td>1.1.0.91</td>\n",
       "      <td>2014-05-27 15:17:20</td>\n",
       "    </tr>\n",
       "    <tr>\n",
       "      <th>4</th>\n",
       "      <td>bbc1bf95-ed36-41a1-8b98-0f2e314caea5</td>\n",
       "      <td>167276875678680630145</td>\n",
       "      <td>A Google user</td>\n",
       "      <td>as a professional android developer i'm glad t...</td>\n",
       "      <td>5</td>\n",
       "      <td>10</td>\n",
       "      <td>1.1.0.91</td>\n",
       "      <td>2014-05-27 15:26:48</td>\n",
       "    </tr>\n",
       "  </tbody>\n",
       "</table>\n",
       "</div>"
      ],
      "text/plain": [
       "                              review_id       pseudo_author_id    author_name  \\\n",
       "0  14a011a8-7544-47b4-8480-c502af0ac26f  152618553977019693742  A Google user   \n",
       "1  bfa8876b-470e-4640-83a7-77427f7f37e8  234382942865437071667  A Google user   \n",
       "2  70e8252f-058a-47d9-b066-df9e1571c970  174473604608358796368  A Google user   \n",
       "3  672a155a-e81e-4d28-bdeb-a74c031bc072  286593453219054880269  A Google user   \n",
       "4  bbc1bf95-ed36-41a1-8b98-0f2e314caea5  167276875678680630145  A Google user   \n",
       "\n",
       "                                         review_text  review_rating  \\\n",
       "0                                   use it every day              5   \n",
       "1  i enjoy the awesome ui of this app, and it has...              5   \n",
       "2                love it! especially the new design!              5   \n",
       "3              awesome ui, best music app out there!              5   \n",
       "4  as a professional android developer i'm glad t...              5   \n",
       "\n",
       "   review_likes author_app_version     review_timestamp  \n",
       "0             1           1.1.0.91  2014-05-27 14:21:48  \n",
       "1             4           1.1.0.91  2014-05-27 14:36:02  \n",
       "2             2           1.1.0.91  2014-05-27 14:40:01  \n",
       "3             1           1.1.0.91  2014-05-27 15:17:20  \n",
       "4            10           1.1.0.91  2014-05-27 15:26:48  "
      ]
     },
     "execution_count": 1,
     "metadata": {},
     "output_type": "execute_result"
    }
   ],
   "source": [
    "import pandas as pd\n",
    "df = pd.read_csv('/Users/masa/Desktop/assessment-rag/SPOTIFY_REVIEWS.csv')\n",
    "# Data cleaning process\n",
    "\n",
    "# Drop the index column 'Unnamed: 0' as it's not needed\n",
    "cleaned_data = df.drop(columns=['Unnamed: 0'])\n",
    "\n",
    "# Basic cleaning of the review_text by:\n",
    "# - Lowercasing all text for consistency\n",
    "# - Removing leading/trailing spaces (if any)\n",
    "cleaned_data['review_text'] = cleaned_data['review_text'].str.lower().str.strip()\n",
    "\n",
    "# Remove rows with missing or null values in the critical columns\n",
    "cleaned_data = cleaned_data.dropna(subset=['review_text', 'review_rating'])\n",
    "\n",
    "cleaned_data.head()\n"
   ]
  },
  {
   "cell_type": "markdown",
   "metadata": {},
   "source": [
    "#### Creating a new column with metadata - will be used for generating embeddings"
   ]
  },
  {
   "cell_type": "code",
   "execution_count": 2,
   "metadata": {},
   "outputs": [],
   "source": [
    "cleaned_data['review_text_with_metadata'] = cleaned_data.apply(\n",
    "    lambda row: f\"User_review_text: {row['review_text']} | Rating_by_user: {row['review_rating']} | Review_likes_received_by_other_users: {row['review_likes']} | App_Version: {row['author_app_version']} | Timestamp_review_posted: {row['review_timestamp']}\",\n",
    "    axis=1\n",
    ")"
   ]
  },
  {
   "cell_type": "code",
   "execution_count": 3,
   "metadata": {},
   "outputs": [
    {
     "data": {
      "text/plain": [
       "0    User_review_text: use it every day | Rating_by...\n",
       "1    User_review_text: i enjoy the awesome ui of th...\n",
       "2    User_review_text: love it! especially the new ...\n",
       "3    User_review_text: awesome ui, best music app o...\n",
       "4    User_review_text: as a professional android de...\n",
       "Name: review_text_with_metadata, dtype: object"
      ]
     },
     "execution_count": 3,
     "metadata": {},
     "output_type": "execute_result"
    }
   ],
   "source": [
    "cleaned_data['review_text_with_metadata'].head()"
   ]
  },
  {
   "cell_type": "markdown",
   "metadata": {},
   "source": [
    "### Saving the cleaned data to a new CSV file"
   ]
  },
  {
   "cell_type": "code",
   "execution_count": 4,
   "metadata": {},
   "outputs": [],
   "source": [
    "# Save the cleaned data to a new CSV file\n",
    "cleaned_data.to_csv('/Users/masa/Desktop/assessment-rag/CLEANED_SPOTIFY_REVIEWS_v2.csv', index=False)"
   ]
  },
  {
   "cell_type": "code",
   "execution_count": 5,
   "metadata": {},
   "outputs": [
    {
     "name": "stdout",
     "output_type": "stream",
     "text": [
      "Number of rows in the cleaned dataset: 3376401\n"
     ]
    }
   ],
   "source": [
    "# Count the number of rows in the cleaned dataset\n",
    "row_count = cleaned_data.shape[0]\n",
    "print(f\"Number of rows in the cleaned dataset: {row_count}\")\n"
   ]
  },
  {
   "cell_type": "code",
   "execution_count": null,
   "metadata": {},
   "outputs": [],
   "source": []
  }
 ],
 "metadata": {
  "kernelspec": {
   "display_name": "myenv",
   "language": "python",
   "name": "python3"
  },
  "language_info": {
   "codemirror_mode": {
    "name": "ipython",
    "version": 3
   },
   "file_extension": ".py",
   "mimetype": "text/x-python",
   "name": "python",
   "nbconvert_exporter": "python",
   "pygments_lexer": "ipython3",
   "version": "3.10.14"
  }
 },
 "nbformat": 4,
 "nbformat_minor": 2
}
